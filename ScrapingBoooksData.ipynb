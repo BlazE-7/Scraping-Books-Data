{
 "cells": [
  {
   "cell_type": "code",
   "execution_count": 2,
   "metadata": {},
   "outputs": [],
   "source": [
    "#import required libraries\n",
    "import pandas as pd\n",
    "import requests as rqst\n",
    "from bs4 import BeautifulSoup as bs"
   ]
  },
  {
   "cell_type": "code",
   "execution_count": 3,
   "metadata": {},
   "outputs": [],
   "source": [
    "Title = []\n",
    "Rating = []\n",
    "Price = []\n",
    "\n",
    "#Fetch the data from all pages\n",
    "for i in range(1,51):\n",
    "    url = 'https://books.toscrape.com/catalogue/page-{}.html'.format(i)\n",
    "    web = rqst.get(url)\n",
    "    soup = bs(web.content, \"html.parser\")\n",
    "    \n",
    "    # Fetch the Title of the book\n",
    "    for i in soup.find_all(\"h3\"):\n",
    "        Title.append(i.a['title'])\n",
    "        \n",
    "    #Fetch the Rating of the books\n",
    "    for i in soup.find_all('article'):\n",
    "        Rating.append(i.p['class'][1])\n",
    "        \n",
    "    #Fetch the Prices of the books\n",
    "    for i in soup.find_all('p',{'class':'price_color'}):\n",
    "        Price.append(i.get_text())"
   ]
  },
  {
   "cell_type": "code",
   "execution_count": 7,
   "metadata": {},
   "outputs": [],
   "source": [
    "#create dict\n",
    "df = {'Books':Title, 'Rating Out of 5':Rating, 'Price':Price}"
   ]
  },
  {
   "cell_type": "code",
   "execution_count": 8,
   "metadata": {},
   "outputs": [
    {
     "data": {
      "text/html": [
       "<div>\n",
       "<style scoped>\n",
       "    .dataframe tbody tr th:only-of-type {\n",
       "        vertical-align: middle;\n",
       "    }\n",
       "\n",
       "    .dataframe tbody tr th {\n",
       "        vertical-align: top;\n",
       "    }\n",
       "\n",
       "    .dataframe thead th {\n",
       "        text-align: right;\n",
       "    }\n",
       "</style>\n",
       "<table border=\"1\" class=\"dataframe\">\n",
       "  <thead>\n",
       "    <tr style=\"text-align: right;\">\n",
       "      <th></th>\n",
       "      <th>Books</th>\n",
       "      <th>Rating Out of 5</th>\n",
       "      <th>Price</th>\n",
       "    </tr>\n",
       "  </thead>\n",
       "  <tbody>\n",
       "    <tr>\n",
       "      <th>0</th>\n",
       "      <td>A Light in the Attic</td>\n",
       "      <td>Three</td>\n",
       "      <td>£51.77</td>\n",
       "    </tr>\n",
       "    <tr>\n",
       "      <th>1</th>\n",
       "      <td>Tipping the Velvet</td>\n",
       "      <td>One</td>\n",
       "      <td>£53.74</td>\n",
       "    </tr>\n",
       "    <tr>\n",
       "      <th>2</th>\n",
       "      <td>Soumission</td>\n",
       "      <td>One</td>\n",
       "      <td>£50.10</td>\n",
       "    </tr>\n",
       "    <tr>\n",
       "      <th>3</th>\n",
       "      <td>Sharp Objects</td>\n",
       "      <td>Four</td>\n",
       "      <td>£47.82</td>\n",
       "    </tr>\n",
       "    <tr>\n",
       "      <th>4</th>\n",
       "      <td>Sapiens: A Brief History of Humankind</td>\n",
       "      <td>Five</td>\n",
       "      <td>£54.23</td>\n",
       "    </tr>\n",
       "    <tr>\n",
       "      <th>...</th>\n",
       "      <td>...</td>\n",
       "      <td>...</td>\n",
       "      <td>...</td>\n",
       "    </tr>\n",
       "    <tr>\n",
       "      <th>995</th>\n",
       "      <td>Alice in Wonderland (Alice's Adventures in Won...</td>\n",
       "      <td>One</td>\n",
       "      <td>£55.53</td>\n",
       "    </tr>\n",
       "    <tr>\n",
       "      <th>996</th>\n",
       "      <td>Ajin: Demi-Human, Volume 1 (Ajin: Demi-Human #1)</td>\n",
       "      <td>Four</td>\n",
       "      <td>£57.06</td>\n",
       "    </tr>\n",
       "    <tr>\n",
       "      <th>997</th>\n",
       "      <td>A Spy's Devotion (The Regency Spies of London #1)</td>\n",
       "      <td>Five</td>\n",
       "      <td>£16.97</td>\n",
       "    </tr>\n",
       "    <tr>\n",
       "      <th>998</th>\n",
       "      <td>1st to Die (Women's Murder Club #1)</td>\n",
       "      <td>One</td>\n",
       "      <td>£53.98</td>\n",
       "    </tr>\n",
       "    <tr>\n",
       "      <th>999</th>\n",
       "      <td>1,000 Places to See Before You Die</td>\n",
       "      <td>Five</td>\n",
       "      <td>£26.08</td>\n",
       "    </tr>\n",
       "  </tbody>\n",
       "</table>\n",
       "<p>1000 rows × 3 columns</p>\n",
       "</div>"
      ],
      "text/plain": [
       "                                                 Books Rating Out of 5   Price\n",
       "0                                 A Light in the Attic           Three  £51.77\n",
       "1                                   Tipping the Velvet             One  £53.74\n",
       "2                                           Soumission             One  £50.10\n",
       "3                                        Sharp Objects            Four  £47.82\n",
       "4                Sapiens: A Brief History of Humankind            Five  £54.23\n",
       "..                                                 ...             ...     ...\n",
       "995  Alice in Wonderland (Alice's Adventures in Won...             One  £55.53\n",
       "996   Ajin: Demi-Human, Volume 1 (Ajin: Demi-Human #1)            Four  £57.06\n",
       "997  A Spy's Devotion (The Regency Spies of London #1)            Five  £16.97\n",
       "998                1st to Die (Women's Murder Club #1)             One  £53.98\n",
       "999                 1,000 Places to See Before You Die            Five  £26.08\n",
       "\n",
       "[1000 rows x 3 columns]"
      ]
     },
     "execution_count": 8,
     "metadata": {},
     "output_type": "execute_result"
    }
   ],
   "source": [
    "#make a dataframe\n",
    "Data = pd.DataFrame(df)\n",
    "Data"
   ]
  },
  {
   "cell_type": "code",
   "execution_count": 12,
   "metadata": {},
   "outputs": [],
   "source": [
    "#save file as a csv format\n",
    "Data.to_excel('Books.xlsx')"
   ]
  }
 ],
 "metadata": {
  "kernelspec": {
   "display_name": "Python 3",
   "language": "python",
   "name": "python3"
  },
  "language_info": {
   "codemirror_mode": {
    "name": "ipython",
    "version": 3
   },
   "file_extension": ".py",
   "mimetype": "text/x-python",
   "name": "python",
   "nbconvert_exporter": "python",
   "pygments_lexer": "ipython3",
   "version": "3.12.0"
  }
 },
 "nbformat": 4,
 "nbformat_minor": 2
}
